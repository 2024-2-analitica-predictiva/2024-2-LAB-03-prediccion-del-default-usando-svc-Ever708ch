{
 "cells": [
  {
   "cell_type": "code",
   "execution_count": 232,
   "metadata": {},
   "outputs": [
    {
     "name": "stdout",
     "output_type": "stream",
     "text": [
      "<class 'pandas.core.frame.DataFrame'>\n",
      "RangeIndex: 21000 entries, 0 to 20999\n",
      "Data columns (total 25 columns):\n",
      " #   Column                      Non-Null Count  Dtype\n",
      "---  ------                      --------------  -----\n",
      " 0   ID                          21000 non-null  int64\n",
      " 1   LIMIT_BAL                   21000 non-null  int64\n",
      " 2   SEX                         21000 non-null  int64\n",
      " 3   EDUCATION                   21000 non-null  int64\n",
      " 4   MARRIAGE                    21000 non-null  int64\n",
      " 5   AGE                         21000 non-null  int64\n",
      " 6   PAY_0                       21000 non-null  int64\n",
      " 7   PAY_2                       21000 non-null  int64\n",
      " 8   PAY_3                       21000 non-null  int64\n",
      " 9   PAY_4                       21000 non-null  int64\n",
      " 10  PAY_5                       21000 non-null  int64\n",
      " 11  PAY_6                       21000 non-null  int64\n",
      " 12  BILL_AMT1                   21000 non-null  int64\n",
      " 13  BILL_AMT2                   21000 non-null  int64\n",
      " 14  BILL_AMT3                   21000 non-null  int64\n",
      " 15  BILL_AMT4                   21000 non-null  int64\n",
      " 16  BILL_AMT5                   21000 non-null  int64\n",
      " 17  BILL_AMT6                   21000 non-null  int64\n",
      " 18  PAY_AMT1                    21000 non-null  int64\n",
      " 19  PAY_AMT2                    21000 non-null  int64\n",
      " 20  PAY_AMT3                    21000 non-null  int64\n",
      " 21  PAY_AMT4                    21000 non-null  int64\n",
      " 22  PAY_AMT5                    21000 non-null  int64\n",
      " 23  PAY_AMT6                    21000 non-null  int64\n",
      " 24  default payment next month  21000 non-null  int64\n",
      "dtypes: int64(25)\n",
      "memory usage: 4.0 MB\n"
     ]
    }
   ],
   "source": [
    "import pandas as pd\n",
    "import numpy as np\n",
    "import pickle\n",
    "\n",
    "df1 = pd.read_csv(\"../files/input/train_data.csv.zip\", index_col=False, compression=\"zip\")\n",
    "df1_ = df1.copy()\n",
    "df1_.info()"
   ]
  },
  {
   "cell_type": "code",
   "execution_count": 233,
   "metadata": {},
   "outputs": [
    {
     "name": "stdout",
     "output_type": "stream",
     "text": [
      "<class 'pandas.core.frame.DataFrame'>\n",
      "RangeIndex: 9000 entries, 0 to 8999\n",
      "Data columns (total 25 columns):\n",
      " #   Column                      Non-Null Count  Dtype\n",
      "---  ------                      --------------  -----\n",
      " 0   ID                          9000 non-null   int64\n",
      " 1   LIMIT_BAL                   9000 non-null   int64\n",
      " 2   SEX                         9000 non-null   int64\n",
      " 3   EDUCATION                   9000 non-null   int64\n",
      " 4   MARRIAGE                    9000 non-null   int64\n",
      " 5   AGE                         9000 non-null   int64\n",
      " 6   PAY_0                       9000 non-null   int64\n",
      " 7   PAY_2                       9000 non-null   int64\n",
      " 8   PAY_3                       9000 non-null   int64\n",
      " 9   PAY_4                       9000 non-null   int64\n",
      " 10  PAY_5                       9000 non-null   int64\n",
      " 11  PAY_6                       9000 non-null   int64\n",
      " 12  BILL_AMT1                   9000 non-null   int64\n",
      " 13  BILL_AMT2                   9000 non-null   int64\n",
      " 14  BILL_AMT3                   9000 non-null   int64\n",
      " 15  BILL_AMT4                   9000 non-null   int64\n",
      " 16  BILL_AMT5                   9000 non-null   int64\n",
      " 17  BILL_AMT6                   9000 non-null   int64\n",
      " 18  PAY_AMT1                    9000 non-null   int64\n",
      " 19  PAY_AMT2                    9000 non-null   int64\n",
      " 20  PAY_AMT3                    9000 non-null   int64\n",
      " 21  PAY_AMT4                    9000 non-null   int64\n",
      " 22  PAY_AMT5                    9000 non-null   int64\n",
      " 23  PAY_AMT6                    9000 non-null   int64\n",
      " 24  default payment next month  9000 non-null   int64\n",
      "dtypes: int64(25)\n",
      "memory usage: 1.7 MB\n"
     ]
    }
   ],
   "source": [
    "df2 = pd.read_csv(\"../files/input/test_data.csv.zip\", index_col=False, compression=\"zip\")\n",
    "df2_=df2.copy()\n",
    "df2_.info()"
   ]
  },
  {
   "cell_type": "code",
   "execution_count": 234,
   "metadata": {},
   "outputs": [
    {
     "data": {
      "text/plain": [
       "array([3, 2, 1, 4])"
      ]
     },
     "execution_count": 234,
     "metadata": {},
     "output_type": "execute_result"
    }
   ],
   "source": [
    "def preprocess_data(df):\n",
    "    df.rename(columns={\"default payment next month\": \"default\"}, inplace=True)\n",
    "    df.drop(columns=[\"ID\"], inplace=True)\n",
    "    df.dropna(inplace=True)\n",
    "\n",
    "    df.loc[df[\"EDUCATION\"] > 4, \"EDUCATION\"] = 4\n",
    "    df = df.loc[df[\"EDUCATION\"] !=0]\n",
    "    df = df.loc[df[\"MARRIAGE\"] !=0]\n",
    "    df.dropna(inplace=True)\n",
    "    \n",
    "    return df\n",
    "df1_ = preprocess_data(df1)\n",
    "df2_ = preprocess_data(df2)\n",
    "# ver valores unicos de \"SEX\"\n",
    "df1_[\"EDUCATION\"].unique()"
   ]
  },
  {
   "cell_type": "code",
   "execution_count": 235,
   "metadata": {},
   "outputs": [],
   "source": [
    "X_train = df1_.drop(columns=[\"default\"])\n",
    "y_train = df1_[\"default\"]\n",
    "X_test = df2_.drop(columns=[\"default\"])\n",
    "y_test = df2_[\"default\"]"
   ]
  },
  {
   "cell_type": "code",
   "execution_count": 236,
   "metadata": {},
   "outputs": [
    {
     "name": "stdout",
     "output_type": "stream",
     "text": [
      "Accuracy del modelo: 0.8262612763113932\n"
     ]
    }
   ],
   "source": [
    "# Cree un pipeline para el modelo de clasificación. Este pipeline debe\n",
    "# contener las siguientes capas:\n",
    "# - Transforma las variables categoricas usando el método\n",
    "#   one-hot-encoding.\n",
    "# - Descompone la matriz de entrada usando PCA. El PCA usa todas las componentes.\n",
    "# - Estandariza la matriz de entrada.\n",
    "# - Selecciona las K columnas mas relevantes de la matrix de entrada.\n",
    "# - Ajusta una maquina de vectores de soporte (svm).\n",
    "from sklearn.pipeline import Pipeline\n",
    "from sklearn.preprocessing import OneHotEncoder\n",
    "from sklearn.decomposition import PCA\n",
    "from sklearn.preprocessing import StandardScaler\n",
    "from sklearn.feature_selection import SelectKBest\n",
    "from sklearn.svm import SVC\n",
    "from sklearn.compose import ColumnTransformer\n",
    "from sklearn.feature_selection import f_classif\n",
    "\n",
    "categorical_features = [\"SEX\", \"EDUCATION\", \"MARRIAGE\"]\n",
    "numerical_features = [\"LIMIT_BAL\", \"AGE\", \"PAY_0\", \"PAY_2\", \"PAY_3\", \"PAY_4\", \"PAY_5\", \"PAY_6\", \"BILL_AMT1\", \"BILL_AMT2\", \"BILL_AMT3\", \"BILL_AMT4\", \"BILL_AMT5\", \"BILL_AMT6\", \"PAY_AMT1\", \"PAY_AMT2\", \"PAY_AMT3\", \"PAY_AMT4\", \"PAY_AMT5\", \"PAY_AMT6\"]\n",
    "\n",
    "preprocessor = ColumnTransformer(\n",
    "    transformers=[\n",
    "        (\"cat\", OneHotEncoder(handle_unknown=\"ignore\"), categorical_features),\n",
    "        (\"num\", Pipeline([\n",
    "            (\"scaler\", StandardScaler()), \n",
    "            (\"pca\", PCA(n_components=None)),  \n",
    "        ]), numerical_features),\n",
    "    ]\n",
    ")\n",
    "\n",
    "pipeline = Pipeline([\n",
    "    (\"preprocessor\", preprocessor), \n",
    "    (\"selectkbest\", SelectKBest(score_func=f_classif, k=6)), \n",
    "    (\"svm\", SVC(random_state=42))  \n",
    "])\n",
    "\n",
    "pipeline.fit(X_train, y_train)\n",
    "\n",
    "accuracy = pipeline.score(X_test, y_test)\n",
    "print(\"Accuracy del modelo:\", accuracy)\n"
   ]
  },
  {
   "cell_type": "code",
   "execution_count": 237,
   "metadata": {},
   "outputs": [
    {
     "name": "stdout",
     "output_type": "stream",
     "text": [
      "Fitting 10 folds for each of 5 candidates, totalling 50 fits\n",
      "[CV 1/10] END preprocessor__num__pca__n_components=10, selectkbest__k=7, svm__C=1.0, svm__gamma=0.1;, score=0.630 total time=  11.2s\n",
      "[CV 2/10] END preprocessor__num__pca__n_components=10, selectkbest__k=7, svm__C=1.0, svm__gamma=0.1;, score=0.628 total time=  19.4s\n",
      "[CV 3/10] END preprocessor__num__pca__n_components=10, selectkbest__k=7, svm__C=1.0, svm__gamma=0.1;, score=0.618 total time=  34.3s\n",
      "[CV 4/10] END preprocessor__num__pca__n_components=10, selectkbest__k=7, svm__C=1.0, svm__gamma=0.1;, score=0.623 total time=  27.8s\n",
      "[CV 5/10] END preprocessor__num__pca__n_components=10, selectkbest__k=7, svm__C=1.0, svm__gamma=0.1;, score=0.634 total time=  15.1s\n",
      "[CV 6/10] END preprocessor__num__pca__n_components=10, selectkbest__k=7, svm__C=1.0, svm__gamma=0.1;, score=0.633 total time=  10.1s\n",
      "[CV 7/10] END preprocessor__num__pca__n_components=10, selectkbest__k=7, svm__C=1.0, svm__gamma=0.1;, score=0.615 total time=   8.2s\n",
      "[CV 8/10] END preprocessor__num__pca__n_components=10, selectkbest__k=7, svm__C=1.0, svm__gamma=0.1;, score=0.608 total time=   8.2s\n",
      "[CV 9/10] END preprocessor__num__pca__n_components=10, selectkbest__k=7, svm__C=1.0, svm__gamma=0.1;, score=0.625 total time=   8.6s\n",
      "[CV 10/10] END preprocessor__num__pca__n_components=10, selectkbest__k=7, svm__C=1.0, svm__gamma=0.1;, score=0.629 total time=   8.1s\n",
      "[CV 1/10] END preprocessor__num__pca__n_components=11, selectkbest__k=7, svm__C=1.0, svm__gamma=0.1;, score=0.629 total time=   8.5s\n",
      "[CV 2/10] END preprocessor__num__pca__n_components=11, selectkbest__k=7, svm__C=1.0, svm__gamma=0.1;, score=0.628 total time=   8.3s\n",
      "[CV 3/10] END preprocessor__num__pca__n_components=11, selectkbest__k=7, svm__C=1.0, svm__gamma=0.1;, score=0.621 total time=   7.9s\n",
      "[CV 4/10] END preprocessor__num__pca__n_components=11, selectkbest__k=7, svm__C=1.0, svm__gamma=0.1;, score=0.625 total time=   8.2s\n",
      "[CV 5/10] END preprocessor__num__pca__n_components=11, selectkbest__k=7, svm__C=1.0, svm__gamma=0.1;, score=0.633 total time=   8.3s\n",
      "[CV 6/10] END preprocessor__num__pca__n_components=11, selectkbest__k=7, svm__C=1.0, svm__gamma=0.1;, score=0.637 total time=   7.9s\n",
      "[CV 7/10] END preprocessor__num__pca__n_components=11, selectkbest__k=7, svm__C=1.0, svm__gamma=0.1;, score=0.618 total time=   8.0s\n",
      "[CV 8/10] END preprocessor__num__pca__n_components=11, selectkbest__k=7, svm__C=1.0, svm__gamma=0.1;, score=0.606 total time=   7.8s\n",
      "[CV 9/10] END preprocessor__num__pca__n_components=11, selectkbest__k=7, svm__C=1.0, svm__gamma=0.1;, score=0.629 total time=   8.2s\n",
      "[CV 10/10] END preprocessor__num__pca__n_components=11, selectkbest__k=7, svm__C=1.0, svm__gamma=0.1;, score=0.632 total time=   8.2s\n",
      "[CV 1/10] END preprocessor__num__pca__n_components=12, selectkbest__k=7, svm__C=1.0, svm__gamma=0.1;, score=0.667 total time=   9.3s\n",
      "[CV 2/10] END preprocessor__num__pca__n_components=12, selectkbest__k=7, svm__C=1.0, svm__gamma=0.1;, score=0.646 total time=   8.2s\n",
      "[CV 3/10] END preprocessor__num__pca__n_components=12, selectkbest__k=7, svm__C=1.0, svm__gamma=0.1;, score=0.658 total time=   8.7s\n",
      "[CV 4/10] END preprocessor__num__pca__n_components=12, selectkbest__k=7, svm__C=1.0, svm__gamma=0.1;, score=0.651 total time=   8.0s\n",
      "[CV 5/10] END preprocessor__num__pca__n_components=12, selectkbest__k=7, svm__C=1.0, svm__gamma=0.1;, score=0.659 total time=   8.0s\n",
      "[CV 6/10] END preprocessor__num__pca__n_components=12, selectkbest__k=7, svm__C=1.0, svm__gamma=0.1;, score=0.666 total time=   8.2s\n",
      "[CV 7/10] END preprocessor__num__pca__n_components=12, selectkbest__k=7, svm__C=1.0, svm__gamma=0.1;, score=0.653 total time=   8.0s\n",
      "[CV 8/10] END preprocessor__num__pca__n_components=12, selectkbest__k=7, svm__C=1.0, svm__gamma=0.1;, score=0.649 total time=   8.0s\n",
      "[CV 9/10] END preprocessor__num__pca__n_components=12, selectkbest__k=7, svm__C=1.0, svm__gamma=0.1;, score=0.654 total time=   8.2s\n",
      "[CV 10/10] END preprocessor__num__pca__n_components=12, selectkbest__k=7, svm__C=1.0, svm__gamma=0.1;, score=0.664 total time=   8.0s\n",
      "[CV 1/10] END preprocessor__num__pca__n_components=13, selectkbest__k=7, svm__C=1.0, svm__gamma=0.1;, score=0.667 total time=   7.9s\n",
      "[CV 2/10] END preprocessor__num__pca__n_components=13, selectkbest__k=7, svm__C=1.0, svm__gamma=0.1;, score=0.646 total time=   8.2s\n",
      "[CV 3/10] END preprocessor__num__pca__n_components=13, selectkbest__k=7, svm__C=1.0, svm__gamma=0.1;, score=0.658 total time=   9.3s\n",
      "[CV 4/10] END preprocessor__num__pca__n_components=13, selectkbest__k=7, svm__C=1.0, svm__gamma=0.1;, score=0.651 total time=  11.8s\n",
      "[CV 5/10] END preprocessor__num__pca__n_components=13, selectkbest__k=7, svm__C=1.0, svm__gamma=0.1;, score=0.659 total time=   7.9s\n",
      "[CV 6/10] END preprocessor__num__pca__n_components=13, selectkbest__k=7, svm__C=1.0, svm__gamma=0.1;, score=0.666 total time=   8.3s\n",
      "[CV 7/10] END preprocessor__num__pca__n_components=13, selectkbest__k=7, svm__C=1.0, svm__gamma=0.1;, score=0.653 total time=   9.4s\n",
      "[CV 8/10] END preprocessor__num__pca__n_components=13, selectkbest__k=7, svm__C=1.0, svm__gamma=0.1;, score=0.649 total time=   9.0s\n",
      "[CV 9/10] END preprocessor__num__pca__n_components=13, selectkbest__k=7, svm__C=1.0, svm__gamma=0.1;, score=0.654 total time=  11.0s\n",
      "[CV 10/10] END preprocessor__num__pca__n_components=13, selectkbest__k=7, svm__C=1.0, svm__gamma=0.1;, score=0.664 total time=  14.4s\n",
      "[CV 1/10] END preprocessor__num__pca__n_components=14, selectkbest__k=7, svm__C=1.0, svm__gamma=0.1;, score=0.667 total time=  11.5s\n",
      "[CV 2/10] END preprocessor__num__pca__n_components=14, selectkbest__k=7, svm__C=1.0, svm__gamma=0.1;, score=0.646 total time=  12.8s\n",
      "[CV 3/10] END preprocessor__num__pca__n_components=14, selectkbest__k=7, svm__C=1.0, svm__gamma=0.1;, score=0.658 total time=  12.9s\n",
      "[CV 4/10] END preprocessor__num__pca__n_components=14, selectkbest__k=7, svm__C=1.0, svm__gamma=0.1;, score=0.651 total time=  12.3s\n",
      "[CV 5/10] END preprocessor__num__pca__n_components=14, selectkbest__k=7, svm__C=1.0, svm__gamma=0.1;, score=0.659 total time=   9.3s\n",
      "[CV 6/10] END preprocessor__num__pca__n_components=14, selectkbest__k=7, svm__C=1.0, svm__gamma=0.1;, score=0.666 total time=   8.7s\n",
      "[CV 7/10] END preprocessor__num__pca__n_components=14, selectkbest__k=7, svm__C=1.0, svm__gamma=0.1;, score=0.653 total time=   8.0s\n",
      "[CV 8/10] END preprocessor__num__pca__n_components=14, selectkbest__k=7, svm__C=1.0, svm__gamma=0.1;, score=0.649 total time=   8.1s\n",
      "[CV 9/10] END preprocessor__num__pca__n_components=14, selectkbest__k=7, svm__C=1.0, svm__gamma=0.1;, score=0.654 total time=   8.8s\n",
      "[CV 10/10] END preprocessor__num__pca__n_components=14, selectkbest__k=7, svm__C=1.0, svm__gamma=0.1;, score=0.664 total time=   8.1s\n",
      "Accuracy del mejor modelo: 0.8258157924044994\n"
     ]
    }
   ],
   "source": [
    "# Paso 4.\n",
    "# Optimice los hiperparametros del pipeline usando validación cruzada.\n",
    "# Use 10 splits para la validación cruzada. Use la función de precision\n",
    "# balanceada para medir la precisión del modelo.\n",
    "from sklearn.model_selection import GridSearchCV\n",
    "from sklearn.metrics import make_scorer, balanced_accuracy_score\n",
    "from sklearn.metrics import mean_squared_error\n",
    "\n",
    "# Definir los parámetros a optimizar\n",
    "param_grid = {\n",
    "    \"preprocessor__num__pca__n_components\": [12],\n",
    "    \"selectkbest__k\": [7],\n",
    "    \"svm__C\": [1.0],\n",
    "    \"svm__gamma\": [0.1],\n",
    "}\n",
    "# Definir la estrategia de validación cruzada\n",
    "scorer = make_scorer(balanced_accuracy_score)\n",
    "grid_search = GridSearchCV(pipeline, param_grid, cv=10, scoring=scorer, verbose=3)\n",
    "grid_search.fit(X_train, y_train)\n",
    "\n",
    "# Obtener el mejor modelo y calcular su accuracy en el conjunto de prueba\n",
    "best_pipeline = grid_search.best_estimator_\n",
    "best_accuracy = best_pipeline.score(X_test, y_test)\n",
    "print(\"Accuracy del mejor modelo:\", best_accuracy)\n"
   ]
  },
  {
   "cell_type": "code",
   "execution_count": 238,
   "metadata": {},
   "outputs": [
    {
     "name": "stdout",
     "output_type": "stream",
     "text": [
      "Mejores hiperparámetros encontrados:\n",
      "{'preprocessor__num__pca__n_components': 12, 'selectkbest__k': 7, 'svm__C': 1.0, 'svm__gamma': 0.1}\n",
      "\n",
      "Mejor puntuación (balanced accuracy) obtenida en validación cruzada:\n",
      "0.6565548073932705\n"
     ]
    }
   ],
   "source": [
    "# Imprimir los mejores hiperparámetros\n",
    "print(\"Mejores hiperparámetros encontrados:\")\n",
    "print(grid_search.best_params_)\n",
    "\n",
    "# Imprimir la mejor puntuación obtenida durante la búsqueda\n",
    "print(\"\\nMejor puntuación (balanced accuracy) obtenida en validación cruzada:\")\n",
    "print(grid_search.best_score_)"
   ]
  },
  {
   "cell_type": "code",
   "execution_count": 239,
   "metadata": {},
   "outputs": [],
   "source": [
    "import joblib\n",
    "import os\n",
    "import pickle\n",
    "import gzip\n",
    "\n",
    "os.makedirs(\"../files/models\", exist_ok=True)\n",
    "with gzip.open(\"../files/models/model.pkl.gz\", \"wb\") as f:\n",
    "    pickle.dump(grid_search, f)"
   ]
  },
  {
   "cell_type": "code",
   "execution_count": 240,
   "metadata": {},
   "outputs": [],
   "source": [
    "from sklearn.metrics import (\n",
    "    precision_score,\n",
    "    recall_score,\n",
    "    f1_score,\n",
    "    balanced_accuracy_score,\n",
    ")\n",
    "import json\n",
    "\n",
    "y_train_pred = grid_search.predict(X_train)\n",
    "y_test_pred = grid_search.predict(X_test)\n",
    "\n",
    "metrics = [\n",
    "    {\n",
    "        \"type\": \"metrics\",\n",
    "        \"dataset\": \"train\",\n",
    "        \"precision\": float(precision_score(y_train, y_train_pred)),\n",
    "        \"balanced_accuracy\": float(balanced_accuracy_score(y_train, y_train_pred)),\n",
    "        \"recall\": float(recall_score(y_train, y_train_pred)),\n",
    "        \"f1_score\": float(f1_score(y_train, y_train_pred)),\n",
    "    },\n",
    "    {\n",
    "        \"type\": \"metrics\",\n",
    "        \"dataset\": \"test\",\n",
    "        \"precision\": float(precision_score(y_test, y_test_pred)),\n",
    "        \"balanced_accuracy\": float(balanced_accuracy_score(y_test, y_test_pred)),\n",
    "        \"recall\": float(recall_score(y_test, y_test_pred)),\n",
    "        \"f1_score\": float(f1_score(y_test, y_test_pred)),\n",
    "    },\n",
    "]"
   ]
  },
  {
   "cell_type": "code",
   "execution_count": 241,
   "metadata": {},
   "outputs": [],
   "source": [
    "from sklearn.metrics import confusion_matrix\n",
    "import os\n",
    "\n",
    "train_cm = confusion_matrix(y_train, y_train_pred)\n",
    "test_cm = confusion_matrix(y_test, y_test_pred)\n",
    "\n",
    "confusion_matrices = [\n",
    "    {\n",
    "        \"type\": \"cm_matrix\",\n",
    "        \"dataset\": \"train\",\n",
    "        \"true_0\": {\n",
    "            \"predicted_0\": int(train_cm[0, 0]),\n",
    "            \"predicted_1\": int(train_cm[0, 1]),\n",
    "        },\n",
    "        \"true_1\": {\n",
    "            \"predicted_0\": int(train_cm[1, 0]),\n",
    "            \"predicted_1\": int(train_cm[1, 1]),\n",
    "        },\n",
    "    },\n",
    "    {\n",
    "        \"type\": \"cm_matrix\",\n",
    "        \"dataset\": \"test\",\n",
    "        \"true_0\": {\n",
    "            \"predicted_0\": int(test_cm[0, 0]),\n",
    "            \"predicted_1\": int(test_cm[0, 1]),\n",
    "        },\n",
    "        \"true_1\": {\n",
    "            \"predicted_0\": int(test_cm[1, 0]),\n",
    "            \"predicted_1\": int(test_cm[1, 1]),\n",
    "        },\n",
    "    },\n",
    "]\n",
    "\n",
    "output_file = \"../files/output/metrics.json\"\n",
    "os.makedirs(\"../files/output\", exist_ok=True)\n",
    "\n",
    "output_data = metrics + confusion_matrices\n",
    "\n",
    "with open(output_file, \"w\") as f:\n",
    "    for item in output_data:\n",
    "        f.write(str(item).replace(\"'\", '\"') + \"\\n\")"
   ]
  }
 ],
 "metadata": {
  "kernelspec": {
   "display_name": ".venv",
   "language": "python",
   "name": "python3"
  },
  "language_info": {
   "codemirror_mode": {
    "name": "ipython",
    "version": 3
   },
   "file_extension": ".py",
   "mimetype": "text/x-python",
   "name": "python",
   "nbconvert_exporter": "python",
   "pygments_lexer": "ipython3",
   "version": "3.10.7"
  }
 },
 "nbformat": 4,
 "nbformat_minor": 2
}
