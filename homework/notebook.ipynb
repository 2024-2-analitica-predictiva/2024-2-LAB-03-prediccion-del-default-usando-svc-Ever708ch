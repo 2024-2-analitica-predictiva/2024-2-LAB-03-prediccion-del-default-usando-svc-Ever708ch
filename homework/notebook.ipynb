{
 "cells": [
  {
   "cell_type": "code",
   "execution_count": 8,
   "metadata": {},
   "outputs": [
    {
     "name": "stdout",
     "output_type": "stream",
     "text": [
      "<class 'pandas.core.frame.DataFrame'>\n",
      "RangeIndex: 21000 entries, 0 to 20999\n",
      "Data columns (total 25 columns):\n",
      " #   Column                      Non-Null Count  Dtype\n",
      "---  ------                      --------------  -----\n",
      " 0   ID                          21000 non-null  int64\n",
      " 1   LIMIT_BAL                   21000 non-null  int64\n",
      " 2   SEX                         21000 non-null  int64\n",
      " 3   EDUCATION                   21000 non-null  int64\n",
      " 4   MARRIAGE                    21000 non-null  int64\n",
      " 5   AGE                         21000 non-null  int64\n",
      " 6   PAY_0                       21000 non-null  int64\n",
      " 7   PAY_2                       21000 non-null  int64\n",
      " 8   PAY_3                       21000 non-null  int64\n",
      " 9   PAY_4                       21000 non-null  int64\n",
      " 10  PAY_5                       21000 non-null  int64\n",
      " 11  PAY_6                       21000 non-null  int64\n",
      " 12  BILL_AMT1                   21000 non-null  int64\n",
      " 13  BILL_AMT2                   21000 non-null  int64\n",
      " 14  BILL_AMT3                   21000 non-null  int64\n",
      " 15  BILL_AMT4                   21000 non-null  int64\n",
      " 16  BILL_AMT5                   21000 non-null  int64\n",
      " 17  BILL_AMT6                   21000 non-null  int64\n",
      " 18  PAY_AMT1                    21000 non-null  int64\n",
      " 19  PAY_AMT2                    21000 non-null  int64\n",
      " 20  PAY_AMT3                    21000 non-null  int64\n",
      " 21  PAY_AMT4                    21000 non-null  int64\n",
      " 22  PAY_AMT5                    21000 non-null  int64\n",
      " 23  PAY_AMT6                    21000 non-null  int64\n",
      " 24  default payment next month  21000 non-null  int64\n",
      "dtypes: int64(25)\n",
      "memory usage: 4.0 MB\n"
     ]
    }
   ],
   "source": [
    "import pandas as pd\n",
    "import numpy as np\n",
    "import pickle\n",
    "\n",
    "df1 = pd.read_csv(\"../files/input/train_data.csv.zip\", index_col=False, compression=\"zip\")\n",
    "df1_ = df1.copy()\n",
    "df1_.info()"
   ]
  },
  {
   "cell_type": "code",
   "execution_count": 9,
   "metadata": {},
   "outputs": [
    {
     "name": "stdout",
     "output_type": "stream",
     "text": [
      "<class 'pandas.core.frame.DataFrame'>\n",
      "RangeIndex: 9000 entries, 0 to 8999\n",
      "Data columns (total 25 columns):\n",
      " #   Column                      Non-Null Count  Dtype\n",
      "---  ------                      --------------  -----\n",
      " 0   ID                          9000 non-null   int64\n",
      " 1   LIMIT_BAL                   9000 non-null   int64\n",
      " 2   SEX                         9000 non-null   int64\n",
      " 3   EDUCATION                   9000 non-null   int64\n",
      " 4   MARRIAGE                    9000 non-null   int64\n",
      " 5   AGE                         9000 non-null   int64\n",
      " 6   PAY_0                       9000 non-null   int64\n",
      " 7   PAY_2                       9000 non-null   int64\n",
      " 8   PAY_3                       9000 non-null   int64\n",
      " 9   PAY_4                       9000 non-null   int64\n",
      " 10  PAY_5                       9000 non-null   int64\n",
      " 11  PAY_6                       9000 non-null   int64\n",
      " 12  BILL_AMT1                   9000 non-null   int64\n",
      " 13  BILL_AMT2                   9000 non-null   int64\n",
      " 14  BILL_AMT3                   9000 non-null   int64\n",
      " 15  BILL_AMT4                   9000 non-null   int64\n",
      " 16  BILL_AMT5                   9000 non-null   int64\n",
      " 17  BILL_AMT6                   9000 non-null   int64\n",
      " 18  PAY_AMT1                    9000 non-null   int64\n",
      " 19  PAY_AMT2                    9000 non-null   int64\n",
      " 20  PAY_AMT3                    9000 non-null   int64\n",
      " 21  PAY_AMT4                    9000 non-null   int64\n",
      " 22  PAY_AMT5                    9000 non-null   int64\n",
      " 23  PAY_AMT6                    9000 non-null   int64\n",
      " 24  default payment next month  9000 non-null   int64\n",
      "dtypes: int64(25)\n",
      "memory usage: 1.7 MB\n"
     ]
    }
   ],
   "source": [
    "df2 = pd.read_csv(\"../files/input/test_data.csv.zip\", index_col=False, compression=\"zip\")\n",
    "df2_=df2.copy()\n",
    "df2_.info()"
   ]
  },
  {
   "cell_type": "code",
   "execution_count": 10,
   "metadata": {},
   "outputs": [
    {
     "data": {
      "text/plain": [
       "array([3, 2, 1, 4])"
      ]
     },
     "execution_count": 10,
     "metadata": {},
     "output_type": "execute_result"
    }
   ],
   "source": [
    "def preprocess_data(df):\n",
    "    df.rename(columns={\"default payment next month\": \"default\"}, inplace=True)\n",
    "    df.drop(columns=[\"ID\"], inplace=True)\n",
    "    df.dropna(inplace=True)\n",
    "\n",
    "    df.loc[df[\"EDUCATION\"] > 4, \"EDUCATION\"] = 4\n",
    "    df = df.loc[df[\"EDUCATION\"] !=0]\n",
    "    df = df.loc[df[\"MARRIAGE\"] !=0]\n",
    "    df.dropna(inplace=True)\n",
    "    \n",
    "    return df\n",
    "df1_ = preprocess_data(df1)\n",
    "df2_ = preprocess_data(df2)\n",
    "# ver valores unicos de \"SEX\"\n",
    "df1_[\"EDUCATION\"].unique()"
   ]
  },
  {
   "cell_type": "code",
   "execution_count": 11,
   "metadata": {},
   "outputs": [],
   "source": [
    "X_train = df1_.drop(columns=[\"default\"])\n",
    "y_train = df1_[\"default\"]\n",
    "X_test = df2_.drop(columns=[\"default\"])\n",
    "y_test = df2_[\"default\"]"
   ]
  },
  {
   "cell_type": "code",
   "execution_count": 12,
   "metadata": {},
   "outputs": [
    {
     "name": "stdout",
     "output_type": "stream",
     "text": [
      "Accuracy del modelo: 0.8264840182648402\n"
     ]
    }
   ],
   "source": [
    "# Cree un pipeline para el modelo de clasificación. Este pipeline debe\n",
    "# contener las siguientes capas:\n",
    "# - Transforma las variables categoricas usando el método\n",
    "#   one-hot-encoding.\n",
    "# - Descompone la matriz de entrada usando PCA. El PCA usa todas las componentes.\n",
    "# - Estandariza la matriz de entrada.\n",
    "# - Selecciona las K columnas mas relevantes de la matrix de entrada.\n",
    "# - Ajusta una maquina de vectores de soporte (svm).\n",
    "from sklearn.pipeline import Pipeline\n",
    "from sklearn.preprocessing import OneHotEncoder\n",
    "from sklearn.decomposition import PCA\n",
    "from sklearn.preprocessing import StandardScaler\n",
    "from sklearn.feature_selection import SelectKBest\n",
    "from sklearn.svm import SVC\n",
    "from sklearn.compose import ColumnTransformer\n",
    "from sklearn.feature_selection import f_classif\n",
    "\n",
    "categorical_features = [\"SEX\", \"EDUCATION\", \"MARRIAGE\"]\n",
    "numerical_features = [\"LIMIT_BAL\", \"AGE\", \"PAY_0\", \"PAY_2\", \"PAY_3\", \"PAY_4\", \"PAY_5\", \"PAY_6\", \"BILL_AMT1\", \"BILL_AMT2\", \"BILL_AMT3\", \"BILL_AMT4\", \"BILL_AMT5\", \"BILL_AMT6\", \"PAY_AMT1\", \"PAY_AMT2\", \"PAY_AMT3\", \"PAY_AMT4\", \"PAY_AMT5\", \"PAY_AMT6\"]\n",
    "\n",
    "preprocessor = ColumnTransformer(\n",
    "    transformers=[\n",
    "        ('cat', OneHotEncoder(), categorical_features),\n",
    "        ('scaler', StandardScaler(with_mean=True, with_std=True), numerical_features),\n",
    "    ]\n",
    ")\n",
    "\n",
    "\n",
    "pipeline = Pipeline([\n",
    "    ('preprocessor', preprocessor),\n",
    "    ('pca', PCA()),\n",
    "    ('feature_selection', SelectKBest(score_func=f_classif)),\n",
    "    ('classifier', SVC(kernel='rbf', random_state=123456, max_iter=-1))\n",
    "])\n",
    "\n",
    "pipeline.fit(X_train, y_train)\n",
    "\n",
    "accuracy = pipeline.score(X_test, y_test)\n",
    "print(\"Accuracy del modelo:\", accuracy)\n"
   ]
  },
  {
   "cell_type": "code",
   "execution_count": 13,
   "metadata": {},
   "outputs": [
    {
     "name": "stdout",
     "output_type": "stream",
     "text": [
      "Accuracy del mejor modelo: 0.8300478895199911\n"
     ]
    }
   ],
   "source": [
    "# Paso 4.\n",
    "# Optimice los hiperparametros del pipeline usando validación cruzada.\n",
    "# Use 10 splits para la validación cruzada. Use la función de precision\n",
    "# balanceada para medir la precisión del modelo.\n",
    "from sklearn.model_selection import GridSearchCV, StratifiedKFold\n",
    "from sklearn.metrics import make_scorer, balanced_accuracy_score\n",
    "\n",
    "param_grid = {\n",
    "    # \"preprocessor__num__selectkbest__k\": [12], #12\n",
    "    # \"preprocessor__num__pca__n_components\": [9],\n",
    "    # \"svm__C\": [1],\n",
    "    # \"svm__gamma\": [ 0.1],\n",
    "    'feature_selection__k': [12],\n",
    "    'pca__n_components': [20,21],\n",
    "    'classifier__C': [ 1],\n",
    "    'classifier__gamma': [0.1],\n",
    "    \n",
    "}\n",
    "\n",
    "#stratified_kfold = StratifiedKFold(n_splits=10, shuffle=True, random_state=42)\n",
    "\n",
    "scorer = make_scorer(balanced_accuracy_score)\n",
    "grid_search = GridSearchCV(\n",
    "    pipeline, \n",
    "    param_grid, \n",
    "    cv=10, \n",
    "    scoring=scorer, \n",
    "    n_jobs=-1,\n",
    "    refit=True,\n",
    ")\n",
    "grid_search.fit(X_train, y_train)\n",
    "\n",
    "# Obtener el mejor modelo y calcular su accuracy en el conjunto de prueba\n",
    "best_pipeline = grid_search.best_estimator_\n",
    "best_accuracy = best_pipeline.score(X_test, y_test)\n",
    "print(\"Accuracy del mejor modelo:\", best_accuracy)\n"
   ]
  },
  {
   "cell_type": "code",
   "execution_count": 14,
   "metadata": {},
   "outputs": [
    {
     "data": {
      "text/plain": [
       "\"# Columnas categóricas y numéricas\\ncategorical_columns = ['SEX', 'EDUCATION', 'MARRIAGE']\\nnumerical_features = [col for col in X_train if col not in categorical_columns]\\n\\n# Preprocesamiento\\npreprocessor = ColumnTransformer(\\n    transformers=[\\n        ('cat', OneHotEncoder(), categorical_columns),\\n        ('scaler', StandardScaler(with_mean=True, with_std=True), numerical_features),\\n    ]\\n)\\n\\n# Pipeline\\npipeline = Pipeline([\\n    ('preprocessor', preprocessor),\\n    ('pca', PCA()),\\n    ('feature_selection', SelectKBest(score_func=f_classif)),\\n    ('classifier', SVC(kernel='rbf', random_state=123456, max_iter=-1))\\n])\\n\\n# Definir la búsqueda de hiperparámetros\\nparam_grid = {\\n    'feature_selection__k': [12],\\n    'pca__n_components': [20,21],\\n    'classifier__C': [ 1],\\n    'classifier__gamma': [0.1],\\n}\\n\\n# Configurar la métrica de precisión balanceada\\nscorer = make_scorer(balanced_accuracy_score)\\n\\n# Crear el objeto de búsqueda\\ngrid_search = GridSearchCV(\\n    pipeline, \\n    param_grid, \\n    cv=10, \\n    scoring=scorer, \\n    n_jobs=-1,\\n    refit=True,\\n)\\n\\n# Ajustar el modelo\\nmodelo = grid_search.fit(X_train, y_train)\""
      ]
     },
     "execution_count": 14,
     "metadata": {},
     "output_type": "execute_result"
    }
   ],
   "source": [
    "'''# Columnas categóricas y numéricas\n",
    "categorical_columns = ['SEX', 'EDUCATION', 'MARRIAGE']\n",
    "numerical_features = [col for col in X_train if col not in categorical_columns]\n",
    "\n",
    "# Preprocesamiento\n",
    "preprocessor = ColumnTransformer(\n",
    "    transformers=[\n",
    "        ('cat', OneHotEncoder(), categorical_columns),\n",
    "        ('scaler', StandardScaler(with_mean=True, with_std=True), numerical_features),\n",
    "    ]\n",
    ")\n",
    "\n",
    "# Pipeline\n",
    "pipeline = Pipeline([\n",
    "    ('preprocessor', preprocessor),\n",
    "    ('pca', PCA()),\n",
    "    ('feature_selection', SelectKBest(score_func=f_classif)),\n",
    "    ('classifier', SVC(kernel='rbf', random_state=123456, max_iter=-1))\n",
    "])\n",
    "\n",
    "# Definir la búsqueda de hiperparámetros\n",
    "param_grid = {\n",
    "    'feature_selection__k': [12],\n",
    "    'pca__n_components': [20,21],\n",
    "    'classifier__C': [ 1],\n",
    "    'classifier__gamma': [0.1],\n",
    "}\n",
    "\n",
    "# Configurar la métrica de precisión balanceada\n",
    "scorer = make_scorer(balanced_accuracy_score)\n",
    "\n",
    "# Crear el objeto de búsqueda\n",
    "grid_search = GridSearchCV(\n",
    "    pipeline, \n",
    "    param_grid, \n",
    "    cv=10, \n",
    "    scoring=scorer, \n",
    "    n_jobs=-1,\n",
    "    refit=True,\n",
    ")\n",
    "\n",
    "# Ajustar el modelo\n",
    "modelo = grid_search.fit(X_train, y_train)'''"
   ]
  },
  {
   "cell_type": "code",
   "execution_count": 15,
   "metadata": {},
   "outputs": [
    {
     "name": "stdout",
     "output_type": "stream",
     "text": [
      "Mejores hiperparámetros encontrados:\n",
      "{'classifier__C': 1, 'classifier__gamma': 0.1, 'feature_selection__k': 12, 'pca__n_components': 20}\n",
      "\n",
      "Mejor puntuación (balanced accuracy) obtenida en validación cruzada:\n",
      "0.6500332144162928\n"
     ]
    }
   ],
   "source": [
    "# Imprimir los mejores hiperparámetros\n",
    "print(\"Mejores hiperparámetros encontrados:\")\n",
    "print(grid_search.best_params_)\n",
    "\n",
    "# Imprimir la mejor puntuación obtenida durante la búsqueda\n",
    "print(\"\\nMejor puntuación (balanced accuracy) obtenida en validación cruzada:\")\n",
    "print(grid_search.best_score_)"
   ]
  },
  {
   "cell_type": "code",
   "execution_count": 16,
   "metadata": {},
   "outputs": [],
   "source": [
    "import joblib\n",
    "import os\n",
    "import pickle\n",
    "import gzip\n",
    "\n",
    "os.makedirs(\"../files/models\", exist_ok=True)\n",
    "with gzip.open(\"../files/models/model.pkl.gz\", \"wb\") as f:\n",
    "    pickle.dump(grid_search, f)"
   ]
  },
  {
   "cell_type": "code",
   "execution_count": 17,
   "metadata": {},
   "outputs": [],
   "source": [
    "from sklearn.metrics import (\n",
    "    precision_score,\n",
    "    recall_score,\n",
    "    f1_score,\n",
    "    balanced_accuracy_score,\n",
    ")\n",
    "import json\n",
    "\n",
    "y_train_pred = grid_search.predict(X_train)\n",
    "y_test_pred = grid_search.predict(X_test)\n",
    "\n",
    "metrics = [\n",
    "    {\n",
    "        \"type\": \"metrics\",\n",
    "        \"dataset\": \"train\",\n",
    "        \"precision\": float(precision_score(y_train, y_train_pred)),\n",
    "        \"balanced_accuracy\": float(balanced_accuracy_score(y_train, y_train_pred)),\n",
    "        \"recall\": float(recall_score(y_train, y_train_pred)),\n",
    "        \"f1_score\": float(f1_score(y_train, y_train_pred)),\n",
    "    },\n",
    "    {\n",
    "        \"type\": \"metrics\",\n",
    "        \"dataset\": \"test\",\n",
    "        \"precision\": float(precision_score(y_test, y_test_pred)),\n",
    "        \"balanced_accuracy\": float(balanced_accuracy_score(y_test, y_test_pred)),\n",
    "        \"recall\": float(recall_score(y_test, y_test_pred)),\n",
    "        \"f1_score\": float(f1_score(y_test, y_test_pred)),\n",
    "    },\n",
    "]"
   ]
  },
  {
   "cell_type": "code",
   "execution_count": 18,
   "metadata": {},
   "outputs": [],
   "source": [
    "from sklearn.metrics import confusion_matrix\n",
    "import os\n",
    "\n",
    "train_cm = confusion_matrix(y_train, y_train_pred)\n",
    "test_cm = confusion_matrix(y_test, y_test_pred)\n",
    "\n",
    "confusion_matrices = [\n",
    "    {\n",
    "        \"type\": \"cm_matrix\",\n",
    "        \"dataset\": \"train\",\n",
    "        \"true_0\": {\n",
    "            \"predicted_0\": int(train_cm[0, 0]),\n",
    "            \"predicted_1\": int(train_cm[0, 1]),\n",
    "        },\n",
    "        \"true_1\": {\n",
    "            \"predicted_0\": int(train_cm[1, 0]),\n",
    "            \"predicted_1\": int(train_cm[1, 1]),\n",
    "        },\n",
    "    },\n",
    "    {\n",
    "        \"type\": \"cm_matrix\",\n",
    "        \"dataset\": \"test\",\n",
    "        \"true_0\": {\n",
    "            \"predicted_0\": int(test_cm[0, 0]),\n",
    "            \"predicted_1\": int(test_cm[0, 1]),\n",
    "        },\n",
    "        \"true_1\": {\n",
    "            \"predicted_0\": int(test_cm[1, 0]),\n",
    "            \"predicted_1\": int(test_cm[1, 1]),\n",
    "        },\n",
    "    },\n",
    "]\n",
    "\n",
    "output_file = \"../files/output/metrics.json\"\n",
    "os.makedirs(\"../files/output\", exist_ok=True)\n",
    "\n",
    "output_data = metrics + confusion_matrices\n",
    "\n",
    "with open(output_file, \"w\") as f:\n",
    "    for item in output_data:\n",
    "        f.write(str(item).replace(\"'\", '\"') + \"\\n\")"
   ]
  }
 ],
 "metadata": {
  "kernelspec": {
   "display_name": ".venv",
   "language": "python",
   "name": "python3"
  },
  "language_info": {
   "codemirror_mode": {
    "name": "ipython",
    "version": 3
   },
   "file_extension": ".py",
   "mimetype": "text/x-python",
   "name": "python",
   "nbconvert_exporter": "python",
   "pygments_lexer": "ipython3",
   "version": "3.10.7"
  }
 },
 "nbformat": 4,
 "nbformat_minor": 2
}
